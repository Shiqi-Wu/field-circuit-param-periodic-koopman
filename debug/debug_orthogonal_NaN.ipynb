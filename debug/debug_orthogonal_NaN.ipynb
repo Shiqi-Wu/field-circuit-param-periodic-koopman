{
 "cells": [
  {
   "cell_type": "code",
   "execution_count": 1,
   "metadata": {},
   "outputs": [],
   "source": [
    "import sys\n",
    "import os\n",
    "\n",
    "# 获取项目根目录（即 `debug/` 目录的上一级）\n",
    "project_root = os.path.abspath(\"..\")  # 假设 `debug/` 目录是你的工作目录\n",
    "\n",
    "# 添加 `project_root` 到 sys.path\n",
    "if project_root not in sys.path:\n",
    "    sys.path.insert(0, project_root)\n",
    "\n",
    "from src.param_periodic_koopman import ParamOrthogonalKoopmanWithInputs"
   ]
  },
  {
   "cell_type": "code",
   "execution_count": 2,
   "metadata": {},
   "outputs": [],
   "source": [
    "import numpy as np\n",
    "import torch"
   ]
  },
  {
   "cell_type": "code",
   "execution_count": 3,
   "metadata": {},
   "outputs": [],
   "source": [
    "from src.data import get_evaluation_dataset\n",
    "from src.args import parse_arguments, read_config_file\n",
    "\n",
    "config_dir = \"/home/shiqi/code/Project2-sensor-case/field-circuit-param-periodic-koopman/configs/Orthogonal/experiment_1.yaml\"\n",
    "config = read_config_file(config_dir)\n"
   ]
  },
  {
   "cell_type": "code",
   "execution_count": 4,
   "metadata": {},
   "outputs": [],
   "source": [
    "data_dir = config[\"data_dir\"]\n",
    "step_size = config[\"step_size\"]\n",
    "pca_dim = config[\"pca_dim\"]\n",
    "state_dim = pca_dim\n",
    "inputs_dim = 2\n",
    "params_dim = 2\n",
    "model = ParamOrthogonalKoopmanWithInputs(state_dim, config[\"dictionary_dim\"], inputs_dim, params_dim, config[\"dictionary_layers\"], config[\"Q_layers\"], config[\"T_layers\"], config[\"B_layers\"])"
   ]
  },
  {
   "cell_type": "code",
   "execution_count": 5,
   "metadata": {},
   "outputs": [],
   "source": [
    "device = torch.device('cpu')\n",
    "# model_dict = torch.load(os.path.join(config[\"save_dir\"], \"model_state_dict.pth\"))\n",
    "# model.load_state_dict(model_dict)\n",
    "model.to(device)\n",
    "model.B_matrix.resnet.initialize_weights_to_zero()\n"
   ]
  },
  {
   "cell_type": "code",
   "execution_count": 6,
   "metadata": {},
   "outputs": [],
   "source": [
    "from src.eval_param_periodic_orthogonal import evaluate_model, get_evaluation_dataset\n",
    "data_list_train, params_list_train, inputs_list_train, data_list_test, params_list_test, inputs_list_test, dataset = get_evaluation_dataset(config['data_dir'], config['save_dir'], config['validation_split'])\n",
    "data_list_train, data_pred_list_train = evaluate_model(model, data_list_train, params_list_train, inputs_list_train, dataset, config['sample_step'])"
   ]
  },
  {
   "cell_type": "code",
   "execution_count": 7,
   "metadata": {},
   "outputs": [
    {
     "name": "stdout",
     "output_type": "stream",
     "text": [
      "tensor([[[  0.0000,  -4.0778, -24.9525,  ...,   3.5526,   0.0679,   2.7589],\n",
      "         [  4.0778,   0.0000,  -6.5842,  ...,  35.6419,  -6.8759,   1.0072],\n",
      "         [ 24.9525,   6.5842,   0.0000,  ..., -12.8194,  -7.3571, -33.7682],\n",
      "         ...,\n",
      "         [ -3.5526, -35.6419,  12.8194,  ...,   0.0000,  -8.4027, -19.8236],\n",
      "         [ -0.0679,   6.8759,   7.3571,  ...,   8.4027,   0.0000, -21.4380],\n",
      "         [ -2.7589,  -1.0072,  33.7682,  ...,  19.8236,  21.4380,   0.0000]]],\n",
      "       grad_fn=<SubBackward0>)\n"
     ]
    }
   ],
   "source": [
    "data = torch.tensor(data_list_train[0], dtype=torch.float64)\n",
    "params = torch.tensor(params_list_train[0], dtype=torch.float64)\n",
    "inputs = torch.tensor(inputs_list_train[0], dtype=torch.float64)\n",
    "model.eval()\n",
    "print(model.Q_matrix.skew_symmetric_matrix(params[:1, :]))"
   ]
  },
  {
   "cell_type": "code",
   "execution_count": 8,
   "metadata": {},
   "outputs": [
    {
     "data": {
      "text/plain": [
       "tensor([[[ 0.4202, -0.2001, -0.0802,  ..., -0.0867, -0.1052,  0.0768],\n",
       "         [-0.1516,  0.4229,  0.0811,  ...,  0.2063,  0.0612, -0.0255],\n",
       "         [-0.1938, -0.0106,  0.4136,  ..., -0.0762,  0.0960,  0.1273],\n",
       "         ...,\n",
       "         [-0.1251, -0.2275,  0.0593,  ...,  0.1338,  0.0932, -0.3083],\n",
       "         [ 0.0568,  0.1305, -0.0620,  ...,  0.1375,  0.1040,  0.0204],\n",
       "         [-0.1011,  0.0704,  0.0159,  ...,  0.1763,  0.0604, -0.2657]]],\n",
       "       grad_fn=<LinalgMatrixExpBackward0>)"
      ]
     },
     "execution_count": 8,
     "metadata": {},
     "output_type": "execute_result"
    }
   ],
   "source": [
    "model.Q_matrix(params[:1, :])"
   ]
  },
  {
   "cell_type": "code",
   "execution_count": 9,
   "metadata": {},
   "outputs": [
    {
     "name": "stdout",
     "output_type": "stream",
     "text": [
      "tensor([-0.8504+0.5262j, -0.8504-0.5262j, -0.0083+1.0000j, -0.0083-1.0000j,\n",
      "        -0.0743+0.9972j, -0.0743-0.9972j, -0.8654+0.5010j, -0.8654-0.5010j,\n",
      "         0.7732+0.6342j,  0.7732-0.6342j, -0.8091+0.5877j, -0.8091-0.5877j,\n",
      "        -0.9569+0.2903j, -0.9569-0.2903j, -0.7894+0.6139j, -0.7894-0.6139j,\n",
      "         0.3878+0.9217j,  0.3878-0.9217j,  0.7323+0.6809j,  0.7323-0.6809j,\n",
      "         0.8860+0.4637j,  0.8860-0.4637j, -0.9954+0.0954j, -0.9954-0.0954j,\n",
      "        -0.5593+0.8289j, -0.5593-0.8289j,  0.1461+0.9893j,  0.1461-0.9893j,\n",
      "         0.9164+0.4003j,  0.9164-0.4003j,  0.8403+0.5422j,  0.8403-0.5422j,\n",
      "         0.0266+0.9996j,  0.0266-0.9996j, -0.8319+0.5549j, -0.8319-0.5549j,\n",
      "         0.9888+0.1493j,  0.9888-0.1493j,  0.9686+0.2487j,  0.9686-0.2487j,\n",
      "        -0.9870+0.1605j, -0.9870-0.1605j,  0.5858+0.8105j,  0.5858-0.8105j,\n",
      "         0.6479+0.7617j,  0.6479-0.7617j,  0.5164+0.8563j,  0.5164-0.8563j,\n",
      "         0.8194+0.5732j,  0.8194-0.5732j], grad_fn=<LinalgEigBackward0>)\n",
      "Spectral Radius: 1.0\n"
     ]
    }
   ],
   "source": [
    "model.T_matrix(params[:1, :])\n",
    "eigenvalues, _ = torch.linalg.eig(model.T_matrix(params[:1, :])[0])\n",
    "print(eigenvalues)\n",
    "spectral_radius = max(abs(eigenvalues))\n",
    "print(f\"Spectral Radius: {spectral_radius}\")"
   ]
  },
  {
   "cell_type": "code",
   "execution_count": 10,
   "metadata": {},
   "outputs": [
    {
     "name": "stdout",
     "output_type": "stream",
     "text": [
      "T matrix:\n",
      "tensor([[-0.8504,  0.5262,  0.0000,  ...,  0.0000,  0.0000,  0.0000],\n",
      "        [-0.5262, -0.8504,  0.0000,  ...,  0.0000,  0.0000,  0.0000],\n",
      "        [ 0.0000,  0.0000, -0.0083,  ...,  0.0000,  0.0000,  0.0000],\n",
      "        ...,\n",
      "        [ 0.0000,  0.0000,  0.0000,  ...,  0.5164,  0.0000,  0.0000],\n",
      "        [ 0.0000,  0.0000,  0.0000,  ...,  0.0000,  0.8194, -0.5732],\n",
      "        [ 0.0000,  0.0000,  0.0000,  ...,  0.0000,  0.5732,  0.8194]],\n",
      "       grad_fn=<SelectBackward0>)\n",
      "Reconstructed T matrix:\n",
      "tensor([[-0.8504,  0.5262,  0.0000,  ...,  0.0000,  0.0000,  0.0000],\n",
      "        [-0.5262, -0.8504,  0.0000,  ...,  0.0000,  0.0000,  0.0000],\n",
      "        [ 0.0000,  0.0000, -0.0083,  ...,  0.0000,  0.0000,  0.0000],\n",
      "        ...,\n",
      "        [ 0.0000,  0.0000,  0.0000,  ...,  0.5164,  0.0000,  0.0000],\n",
      "        [ 0.0000,  0.0000,  0.0000,  ...,  0.0000,  0.8194, -0.5732],\n",
      "        [ 0.0000,  0.0000,  0.0000,  ...,  0.0000,  0.5732,  0.8194]],\n",
      "       grad_fn=<MmBackward0>)\n"
     ]
    }
   ],
   "source": [
    "T_matrix = model.T_matrix(params[:1, :])[0]\n",
    "\n",
    "# 打印 T 矩阵\n",
    "print(\"T matrix:\")\n",
    "print(T_matrix)\n",
    "# 对 T 矩阵进行分解\n",
    "U, S, V = torch.svd(T_matrix)\n",
    "\n",
    "# 验证分解结果\n",
    "T_reconstructed = U @ torch.diag(S) @ V.T\n",
    "print(\"Reconstructed T matrix:\")\n",
    "print(T_reconstructed)"
   ]
  },
  {
   "cell_type": "code",
   "execution_count": 11,
   "metadata": {},
   "outputs": [
    {
     "name": "stdout",
     "output_type": "stream",
     "text": [
      "Singular values:\n",
      "tensor([1.0000, 1.0000, 1.0000, 1.0000, 1.0000, 1.0000, 1.0000, 1.0000, 1.0000,\n",
      "        1.0000, 1.0000, 1.0000, 1.0000, 1.0000, 1.0000, 1.0000, 1.0000, 1.0000,\n",
      "        1.0000, 1.0000, 1.0000, 1.0000, 1.0000, 1.0000, 1.0000, 1.0000, 1.0000,\n",
      "        1.0000, 1.0000, 1.0000, 1.0000, 1.0000, 1.0000, 1.0000, 1.0000, 1.0000,\n",
      "        1.0000, 1.0000, 1.0000, 1.0000, 1.0000, 1.0000, 1.0000, 1.0000, 1.0000,\n",
      "        1.0000, 1.0000, 1.0000, 1.0000, 1.0000], grad_fn=<LinalgSvdBackward0>)\n"
     ]
    }
   ],
   "source": [
    "print(\"Singular values:\")\n",
    "print(S)"
   ]
  },
  {
   "cell_type": "code",
   "execution_count": 12,
   "metadata": {},
   "outputs": [
    {
     "data": {
      "image/png": "[encoded data removed]",
      "text/plain": [
       "<Figure size 640x480 with 1 Axes>"
      ]
     },
     "metadata": {},
     "output_type": "display_data"
    }
   ],
   "source": [
    "# data_pred_list_train[0][:, 0]\n",
    "import matplotlib.pyplot as plt\n",
    "\n",
    "norms = np.linalg.norm(data_pred_list_train[0], axis=1)\n",
    "plt.plot(norms)\n",
    "plt.xlabel('Row index')\n",
    "plt.ylabel('Norm')\n",
    "plt.yscale('log')\n",
    "plt.title('Norm of each row in data_pred_list_train[0]')\n",
    "plt.show()"
   ]
  },
  {
   "cell_type": "code",
   "execution_count": 13,
   "metadata": {},
   "outputs": [
    {
     "name": "stdout",
     "output_type": "stream",
     "text": [
      "torch.Size([50, 50])\n"
     ]
    }
   ],
   "source": [
    "print(model.Q_matrix(params[:1, :])[0].shape)"
   ]
  },
  {
   "cell_type": "code",
   "execution_count": 14,
   "metadata": {},
   "outputs": [
    {
     "name": "stdout",
     "output_type": "stream",
     "text": [
      "tensor(3.3292e-28, grad_fn=<MseLossBackward0>)\n"
     ]
    }
   ],
   "source": [
    "mse = torch.nn.MSELoss()\n",
    "koopman_dim = 1 + state_dim + config[\"dictionary_dim\"]\n",
    "identity_matrix = torch.eye(koopman_dim, dtype=torch.float64)\n",
    "result = mse(model.Q_matrix(params[:1, :])[0] @ model.Q_matrix(params[:1, :])[0].T, identity_matrix)\n",
    "print(result)"
   ]
  },
  {
   "cell_type": "code",
   "execution_count": 15,
   "metadata": {},
   "outputs": [
    {
     "name": "stdout",
     "output_type": "stream",
     "text": [
      "tensor([[0., 0., 0., 0., 0., 0., 0., 0., 0., 0., 0., 0., 0., 0., 0., 0., 0., 0., 0., 0., 0., 0., 0., 0.,\n",
      "         0., 0., 0., 0., 0., 0., 0., 0., 0., 0., 0., 0., 0., 0., 0., 0., 0., 0., 0., 0., 0., 0., 0., 0.,\n",
      "         0., 0.],\n",
      "        [0., 0., 0., 0., 0., 0., 0., 0., 0., 0., 0., 0., 0., 0., 0., 0., 0., 0., 0., 0., 0., 0., 0., 0.,\n",
      "         0., 0., 0., 0., 0., 0., 0., 0., 0., 0., 0., 0., 0., 0., 0., 0., 0., 0., 0., 0., 0., 0., 0., 0.,\n",
      "         0., 0.]], grad_fn=<SelectBackward0>)\n"
     ]
    }
   ],
   "source": [
    "print(model.B_matrix(params[:1, :])[0])"
   ]
  },
  {
   "cell_type": "code",
   "execution_count": null,
   "metadata": {},
   "outputs": [],
   "source": []
  }
 ],
 "metadata": {
  "kernelspec": {
   "display_name": "torch",
   "language": "python",
   "name": "python3"
  },
  "language_info": {
   "codemirror_mode": {
    "name": "ipython",
    "version": 3
   },
   "file_extension": ".py",
   "mimetype": "text/x-python",
   "name": "python",
   "nbconvert_exporter": "python",
   "pygments_lexer": "ipython3",
   "version": "3.9.17"
  }
 },
 "nbformat": 4,
 "nbformat_minor": 2
}
